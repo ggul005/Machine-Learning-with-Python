{
 "cells": [
  {
   "cell_type": "code",
   "execution_count": 1,
   "metadata": {
    "collapsed": false
   },
   "outputs": [],
   "source": [
    "%matplotlib inline\n",
    "import module\n",
    "from module import *\n",
    "reload(module = module);"
   ]
  },
  {
   "cell_type": "markdown",
   "metadata": {},
   "source": [
    "## Email Preprocessing"
   ]
  },
  {
   "cell_type": "code",
   "execution_count": 2,
   "metadata": {
    "collapsed": false
   },
   "outputs": [
    {
     "data": {
      "text/plain": [
       "\"> Anyone knows how much it costs to host a web portal ?\\n>\\nWell, it depends on how many visitors you're expecting.\\nThis can be anywhere from less than 10 bucks a month to a couple of $100. \\nYou should checkout http://www.rackspace.com/ or perhaps Amazon EC2 \\nif youre running something big..\\n\\nTo unsubscribe yourself from this mailing list, send an email to:\\ngroupname-unsubscribe@egroups.com\\n\\n\""
      ]
     },
     "execution_count": 2,
     "metadata": {},
     "output_type": "execute_result"
    }
   ],
   "source": [
    "#Preprocessing sample email (emailSample1.txt)\n",
    "file_contents = open('emailSample1.txt').read()\n",
    "file_contents"
   ]
  },
  {
   "cell_type": "code",
   "execution_count": 3,
   "metadata": {
    "collapsed": false
   },
   "outputs": [
    {
     "data": {
      "text/plain": [
       "59"
      ]
     },
     "execution_count": 3,
     "metadata": {},
     "output_type": "execute_result"
    }
   ],
   "source": [
    "word_indices, words = processEmail(file_contents)\n",
    "len(words)"
   ]
  },
  {
   "cell_type": "code",
   "execution_count": 4,
   "metadata": {
    "collapsed": false
   },
   "outputs": [
    {
     "data": {
      "text/plain": [
       "43"
      ]
     },
     "execution_count": 4,
     "metadata": {},
     "output_type": "execute_result"
    }
   ],
   "source": [
    "features=emailFeatures(word_indices)\n",
    "int(np.sum(features))"
   ]
  },
  {
   "cell_type": "markdown",
   "metadata": {},
   "source": [
    "##  Train Linear SVM for Spam Classification\n"
   ]
  },
  {
   "cell_type": "code",
   "execution_count": 84,
   "metadata": {
    "collapsed": false
   },
   "outputs": [],
   "source": [
    "# Load the Spam Email dataset\n",
    "spamTrain = loadmat('spamTrain.mat')\n",
    "X = spamTrain['X']\n",
    "y = spamTrain['y']\n",
    "y = y.astype('int')"
   ]
  },
  {
   "cell_type": "code",
   "execution_count": 85,
   "metadata": {
    "collapsed": false
   },
   "outputs": [
    {
     "name": "stdout",
     "output_type": "stream",
     "text": [
      "Training:\n",
      "...............................................................................\n",
      "...............................................................................\n",
      "...............................................................................\n",
      "...............................................................................\n",
      ".............................................................Done!\n"
     ]
    }
   ],
   "source": [
    "C = 0.1\n",
    "model = svmTrain(X, y.copy(), C, 'linearKernel')"
   ]
  },
  {
   "cell_type": "code",
   "execution_count": 144,
   "metadata": {
    "collapsed": false
   },
   "outputs": [
    {
     "name": "stdout",
     "output_type": "stream",
     "text": [
      "Training Accuracy: %f\n",
      " 0.96525\n"
     ]
    }
   ],
   "source": [
    "p = svmPredict(model, X)\n",
    "print('Training Accuracy: %f\\n', np.mean(p == y))"
   ]
  },
  {
   "cell_type": "markdown",
   "metadata": {},
   "source": [
    "##   Test Spam Classification \n",
    "  After training the classifier, we can evaluate it on a test set. \n",
    "  "
   ]
  },
  {
   "cell_type": "code",
   "execution_count": 145,
   "metadata": {
    "collapsed": false
   },
   "outputs": [],
   "source": [
    "spamTest = loadmat('spamTest.mat')\n",
    "Xtest = spamTest['Xtest']\n",
    "ytest = spamTest['ytest']\n",
    "ytest = ytest.astype('int')"
   ]
  },
  {
   "cell_type": "code",
   "execution_count": 146,
   "metadata": {
    "collapsed": false
   },
   "outputs": [
    {
     "name": "stdout",
     "output_type": "stream",
     "text": [
      "Testing Accuracy: %f\n",
      " 0.944\n"
     ]
    }
   ],
   "source": [
    "p = svmPredict(model, Xtest)\n",
    "print('Testing Accuracy: %f\\n', np.mean(p == ytest))"
   ]
  },
  {
   "cell_type": "markdown",
   "metadata": {},
   "source": [
    "##  Top Predictors of Spam\n",
    "  Since the model we are training is a linear SVM, we can inspect the\n",
    "  weights learned by the model to understand better how it is determining\n",
    "  whether an email is spam or not. The following code finds the words with\n",
    "  the highest weights in the classifier. Informally, the classifier\n",
    "  'thinks' that these words are the most likely indicators of spam.\n"
   ]
  },
  {
   "cell_type": "code",
   "execution_count": 89,
   "metadata": {
    "collapsed": false
   },
   "outputs": [],
   "source": [
    "weights= model['w'].copy()\n",
    "indx = np.argsort(weights,axis=0)[::-1]"
   ]
  },
  {
   "cell_type": "code",
   "execution_count": 93,
   "metadata": {
    "collapsed": false
   },
   "outputs": [],
   "source": [
    "vocabList = pd.read_csv('vocab.txt',sep='\\t',header=-1)[1].to_dict()"
   ]
  },
  {
   "cell_type": "code",
   "execution_count": 103,
   "metadata": {
    "collapsed": false
   },
   "outputs": [
    {
     "data": {
      "text/plain": [
       "2.6815577750488506"
      ]
     },
     "execution_count": 103,
     "metadata": {},
     "output_type": "execute_result"
    }
   ],
   "source": [
    "weights[indx[0],0][0]"
   ]
  },
  {
   "cell_type": "code",
   "execution_count": 105,
   "metadata": {
    "collapsed": false
   },
   "outputs": [
    {
     "name": "stdout",
     "output_type": "stream",
     "text": [
      "Top predictors of spam: \n",
      "\n",
      "remov          2.682\n",
      "within         2.382\n",
      "market         2.113\n",
      "will           2.043\n",
      "email          2.016\n",
      "your           2.007\n",
      "inform         1.996\n",
      "pleas          1.947\n",
      "hour           1.923\n",
      "our            1.920\n",
      "compani        1.871\n",
      "per            1.859\n",
      "monei          1.837\n",
      "dollar         1.835\n",
      "am             1.818\n"
     ]
    }
   ],
   "source": [
    "print('Top predictors of spam: \\n')\n",
    "for i in range(15):\n",
    "    print('{0:15s}{1:.3f}'.format(vocabList[indx[i,0]], weights[indx[i],0][0]))\n"
   ]
  },
  {
   "cell_type": "markdown",
   "metadata": {},
   "source": [
    "##  Try Your Own Emails"
   ]
  },
  {
   "cell_type": "code",
   "execution_count": 149,
   "metadata": {
    "collapsed": false
   },
   "outputs": [
    {
     "data": {
      "text/plain": [
       "'Enjoy Your Safe Date with Hot Russian Ladies\\n'"
      ]
     },
     "execution_count": 149,
     "metadata": {},
     "output_type": "execute_result"
    }
   ],
   "source": [
    "file_contents = open('email2.txt').read()\n",
    "file_contents"
   ]
  },
  {
   "cell_type": "code",
   "execution_count": 150,
   "metadata": {
    "collapsed": false
   },
   "outputs": [
    {
     "name": "stdout",
     "output_type": "stream",
     "text": [
      "['enjoy', 'your', 'safe', 'date', 'with', 'hot', 'russian', 'ladi']\n"
     ]
    }
   ],
   "source": [
    "word_indices, words = processEmail(file_contents)\n",
    "features=emailFeatures(word_indices)\n",
    "print(words)"
   ]
  },
  {
   "cell_type": "code",
   "execution_count": 152,
   "metadata": {
    "collapsed": false
   },
   "outputs": [
    {
     "data": {
      "text/plain": [
       "array([[1]])"
      ]
     },
     "execution_count": 152,
     "metadata": {},
     "output_type": "execute_result"
    }
   ],
   "source": [
    "p = svmPredict(model, features.reshape([1,-1]))\n",
    "p"
   ]
  }
 ],
 "metadata": {
  "kernelspec": {
   "display_name": "Python 3",
   "language": "python",
   "name": "python3"
  },
  "language_info": {
   "codemirror_mode": {
    "name": "ipython",
    "version": 3
   },
   "file_extension": ".py",
   "mimetype": "text/x-python",
   "name": "python",
   "nbconvert_exporter": "python",
   "pygments_lexer": "ipython3",
   "version": "3.5.2"
  }
 },
 "nbformat": 4,
 "nbformat_minor": 2
}
